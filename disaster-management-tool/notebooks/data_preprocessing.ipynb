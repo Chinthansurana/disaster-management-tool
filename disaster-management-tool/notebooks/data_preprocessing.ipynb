{
 "cells": [
  {
   "cell_type": "code",
   "execution_count": null,
   "metadata": {
    "vscode": {
     "languageId": "plaintext"
    }
   },
   "outputs": [],
   "source": [
    "import cv2\n",
    "import os\n",
    "from tensorflow.keras.preprocessing.image import ImageDataGenerator"
   ]
  },
  {
   "cell_type": "code",
   "execution_count": null,
   "metadata": {
    "vscode": {
     "languageId": "plaintext"
    }
   },
   "outputs": [],
   "source": [
    "# Path to raw images\n",
    "raw_images_path = 'data/raw_images/'\n",
    "processed_images_path = 'data/processed_images/'"
   ]
  },
  {
   "cell_type": "code",
   "execution_count": null,
   "metadata": {
    "vscode": {
     "languageId": "plaintext"
    }
   },
   "outputs": [],
   "source": [
    "# Function to resize and save processed images\n",
    "def preprocess_and_save_image(image_path, save_path):\n",
    "    image = cv2.imread(image_path)\n",
    "    image = cv2.resize(image, (256, 256))  # Resize to 256x256\n",
    "    cv2.imwrite(save_path, image)"
   ]
  },
  {
   "cell_type": "code",
   "execution_count": null,
   "metadata": {
    "vscode": {
     "languageId": "plaintext"
    }
   },
   "outputs": [],
   "source": [
    "# Create processed images folder if it doesn't exist\n",
    "os.makedirs(processed_images_path, exist_ok=True)"
   ]
  },
  {
   "cell_type": "code",
   "execution_count": null,
   "metadata": {
    "vscode": {
     "languageId": "plaintext"
    }
   },
   "outputs": [],
   "source": [
    "# Process and save images\n",
    "for img_file in os.listdir(raw_images_path):\n",
    "    img_path = os.path.join(raw_images_path, img_file)\n",
    "    save_path = os.path.join(processed_images_path, img_file)\n",
    "    preprocess_and_save_image(img_path, save_path)"
   ]
  },
  {
   "cell_type": "code",
   "execution_count": null,
   "metadata": {
    "vscode": {
     "languageId": "plaintext"
    }
   },
   "outputs": [],
   "source": [
    "# Example of augmentation using ImageDataGenerator\n",
    "datagen = ImageDataGenerator(rotation_range=30, width_shift_range=0.2, height_shift_range=0.2, shear_range=0.2)\n",
    "\n",
    "sample_image = cv2.imread(os.path.join(processed_images_path, os.listdir(processed_images_path)[0]))\n",
    "sample_image = sample_image.reshape((1,) + sample_image.shape)"
   ]
  },
  {
   "cell_type": "code",
   "execution_count": null,
   "metadata": {
    "vscode": {
     "languageId": "plaintext"
    }
   },
   "outputs": [],
   "source": [
    "# Generate augmented images\n",
    "i = 0\n",
    "for batch in datagen.flow(sample_image, batch_size=1, save_to_dir='data/augmented_images/', save_prefix='aug', save_format='jpeg'):\n",
    "    i += 1\n",
    "    if i > 20:  # Generate 20 images\n",
    "        break"
   ]
  }
 ],
 "metadata": {
  "language_info": {
   "name": "python"
  }
 },
 "nbformat": 4,
 "nbformat_minor": 2
}
